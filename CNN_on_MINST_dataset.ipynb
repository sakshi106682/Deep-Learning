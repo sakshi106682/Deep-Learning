{
  "nbformat": 4,
  "nbformat_minor": 0,
  "metadata": {
    "colab": {
      "provenance": [],
      "toc_visible": true,
      "mount_file_id": "1QBKDVYoNsWH_HWubyfzxTRd-kScPE6uJ",
      "authorship_tag": "ABX9TyO2etWW6Zwltlg5SMbxuQM2",
      "include_colab_link": true
    },
    "kernelspec": {
      "name": "python3",
      "display_name": "Python 3"
    },
    "language_info": {
      "name": "python"
    }
  },
  "cells": [
    {
      "cell_type": "markdown",
      "metadata": {
        "id": "view-in-github",
        "colab_type": "text"
      },
      "source": [
        "<a href=\"https://colab.research.google.com/github/sakshi106682/Deep-Learning/blob/main/CNN_on_MINST_dataset.ipynb\" target=\"_parent\"><img src=\"https://colab.research.google.com/assets/colab-badge.svg\" alt=\"Open In Colab\"/></a>"
      ]
    },
    {
      "cell_type": "markdown",
      "source": [
        "#importing libraries"
      ],
      "metadata": {
        "id": "7x_TkQkZbBKe"
      }
    },
    {
      "cell_type": "code",
      "execution_count": 1,
      "metadata": {
        "id": "3Uqa8286Vdy0"
      },
      "outputs": [],
      "source": [
        "import tensorflow as tf\n",
        "from tensorflow.keras import layers,models\n",
        "from tensorflow.keras.datasets import mnist"
      ]
    },
    {
      "cell_type": "markdown",
      "source": [
        "#Loading the Mnist dataset"
      ],
      "metadata": {
        "id": "q2GrPq_KbbGD"
      }
    },
    {
      "cell_type": "code",
      "source": [
        "(train_images,train_labels),(test_images,test_labels)=mnist.load_data()"
      ],
      "metadata": {
        "colab": {
          "base_uri": "https://localhost:8080/"
        },
        "id": "efPsbwfsWpej",
        "outputId": "75df2fcd-e724-467d-acf5-a1631d1fa76b"
      },
      "execution_count": 3,
      "outputs": [
        {
          "output_type": "stream",
          "name": "stdout",
          "text": [
            "Downloading data from https://storage.googleapis.com/tensorflow/tf-keras-datasets/mnist.npz\n",
            "\u001b[1m11490434/11490434\u001b[0m \u001b[32m━━━━━━━━━━━━━━━━━━━━\u001b[0m\u001b[37m\u001b[0m \u001b[1m0s\u001b[0m 0us/step\n"
          ]
        }
      ]
    },
    {
      "cell_type": "markdown",
      "source": [
        "#Preprocessing the data"
      ],
      "metadata": {
        "id": "-I_jMrmZb1-F"
      }
    },
    {
      "cell_type": "code",
      "source": [
        "train_images=train_images.reshape((60000,28,28,1)).astype('float32')/255\n",
        "test_images=test_images.reshape((10000,28,28,1)).astype('float32')/255"
      ],
      "metadata": {
        "id": "qJOkgTTEXDJq"
      },
      "execution_count": 4,
      "outputs": []
    },
    {
      "cell_type": "markdown",
      "source": [
        "#Building the CNN model"
      ],
      "metadata": {
        "id": "Khf3Gv_ab5wj"
      }
    },
    {
      "cell_type": "code",
      "source": [
        "model=models.Sequential([\n",
        "                         layers.Conv2D(32,(3,3),activation='relu',input_shape=(28,28,1)),\n",
        "                         layers.MaxPooling2D((2,2)),\n",
        "                         layers.Conv2D(64,(3,3),activation='relu'),\n",
        "                         layers.MaxPooling2D((2,2)),\n",
        "                         layers.Conv2D(64,(3,3),activation='relu'),\n",
        "                         layers.Flatten(),\n",
        "                         layers.Dense(64,activation='relu'),\n",
        "                         layers.Dense(10,activation='softmax')\n",
        "                         ])"
      ],
      "metadata": {
        "id": "3ApnLMFlXiBl"
      },
      "execution_count": 6,
      "outputs": []
    },
    {
      "cell_type": "markdown",
      "source": [
        "#Compiling the model"
      ],
      "metadata": {
        "id": "VSNWGIXBb-4C"
      }
    },
    {
      "cell_type": "code",
      "source": [
        "model.compile(optimizer='adam',loss='sparse_categorical_crossentropy',metrics=['accuracy'])"
      ],
      "metadata": {
        "id": "qfR5c8oWZCJD"
      },
      "execution_count": 7,
      "outputs": []
    },
    {
      "cell_type": "markdown",
      "source": [
        "#Training the model"
      ],
      "metadata": {
        "id": "4xsStjJ2cCYC"
      }
    },
    {
      "cell_type": "code",
      "source": [
        "history=model.fit(train_images,train_labels,epochs=5,batch_size=63,validation_split=0.2)"
      ],
      "metadata": {
        "colab": {
          "base_uri": "https://localhost:8080/"
        },
        "id": "WgL03YgWZaA6",
        "outputId": "3bc25ff3-e58f-406c-d0e0-bb52ff85ac4b"
      },
      "execution_count": 8,
      "outputs": [
        {
          "output_type": "stream",
          "name": "stdout",
          "text": [
            "Epoch 1/5\n",
            "\u001b[1m762/762\u001b[0m \u001b[32m━━━━━━━━━━━━━━━━━━━━\u001b[0m\u001b[37m\u001b[0m \u001b[1m28s\u001b[0m 35ms/step - accuracy: 0.8502 - loss: 0.4841 - val_accuracy: 0.9819 - val_loss: 0.0643\n",
            "Epoch 2/5\n",
            "\u001b[1m762/762\u001b[0m \u001b[32m━━━━━━━━━━━━━━━━━━━━\u001b[0m\u001b[37m\u001b[0m \u001b[1m41s\u001b[0m 34ms/step - accuracy: 0.9805 - loss: 0.0622 - val_accuracy: 0.9830 - val_loss: 0.0593\n",
            "Epoch 3/5\n",
            "\u001b[1m762/762\u001b[0m \u001b[32m━━━━━━━━━━━━━━━━━━━━\u001b[0m\u001b[37m\u001b[0m \u001b[1m41s\u001b[0m 35ms/step - accuracy: 0.9864 - loss: 0.0402 - val_accuracy: 0.9864 - val_loss: 0.0434\n",
            "Epoch 4/5\n",
            "\u001b[1m762/762\u001b[0m \u001b[32m━━━━━━━━━━━━━━━━━━━━\u001b[0m\u001b[37m\u001b[0m \u001b[1m40s\u001b[0m 34ms/step - accuracy: 0.9904 - loss: 0.0317 - val_accuracy: 0.9890 - val_loss: 0.0390\n",
            "Epoch 5/5\n",
            "\u001b[1m762/762\u001b[0m \u001b[32m━━━━━━━━━━━━━━━━━━━━\u001b[0m\u001b[37m\u001b[0m \u001b[1m41s\u001b[0m 33ms/step - accuracy: 0.9930 - loss: 0.0221 - val_accuracy: 0.9896 - val_loss: 0.0392\n"
          ]
        }
      ]
    },
    {
      "cell_type": "markdown",
      "source": [
        "#Evaluating the model"
      ],
      "metadata": {
        "id": "8obDhRescGoL"
      }
    },
    {
      "cell_type": "code",
      "source": [
        "test_los,test_acc=model.evaluate(test_images,test_labels)\n",
        "print(f'Test Accuracy:{test_acc}')"
      ],
      "metadata": {
        "colab": {
          "base_uri": "https://localhost:8080/"
        },
        "id": "btvQH032ZxCC",
        "outputId": "ebb0b99d-b3f0-440f-f77a-63524cc41ae2"
      },
      "execution_count": 9,
      "outputs": [
        {
          "output_type": "stream",
          "name": "stdout",
          "text": [
            "\u001b[1m313/313\u001b[0m \u001b[32m━━━━━━━━━━━━━━━━━━━━\u001b[0m\u001b[37m\u001b[0m \u001b[1m2s\u001b[0m 8ms/step - accuracy: 0.9862 - loss: 0.0405\n",
            "Test Accuracy:0.9896000027656555\n"
          ]
        }
      ]
    }
  ]
}